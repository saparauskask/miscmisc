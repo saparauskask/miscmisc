{
  "nbformat": 4,
  "nbformat_minor": 0,
  "metadata": {
    "colab": {
      "provenance": [],
      "include_colab_link": true
    },
    "kernelspec": {
      "name": "python3",
      "display_name": "Python 3"
    },
    "language_info": {
      "name": "python"
    }
  },
  "cells": [
    {
      "cell_type": "markdown",
      "metadata": {
        "id": "view-in-github",
        "colab_type": "text"
      },
      "source": [
        "<a href=\"https://colab.research.google.com/github/saparauskask/miscmisc/blob/main/Python_Basic_2.ipynb\" target=\"_parent\"><img src=\"https://colab.research.google.com/assets/colab-badge.svg\" alt=\"Open In Colab\"/></a>"
      ]
    },
    {
      "cell_type": "markdown",
      "source": [
        "# Python Basics No.2"
      ],
      "metadata": {
        "id": "bYTAUEE1rsMo"
      }
    },
    {
      "cell_type": "markdown",
      "source": [
        "This is a crash course in basic Python. The goal is you will be able to utilize 2-dimensional lists, random numbers and understand the code used in the course. Together we are going to do a Python program, with some simple code. In order to keep a good speed no GUI no structure of program. Just coding.\n",
        "\n",
        "Useful links:\n",
        "\n",
        "https://www.w3schools.com/Python/default.asp\n",
        "\n",
        "https://docs.python.org/3/library/random.html\n",
        "\n",
        "https://www.tutorialspoint.com/python_data_structure/python_2darray.htm\n",
        "\n",
        "https://stackoverflow.com/questions/6142689/initialising-an-array-of-fixed-size-in-python\n"
      ],
      "metadata": {
        "id": "Xhoo0AWhrxym"
      }
    },
    {
      "cell_type": "markdown",
      "source": [
        "Assignment 1: Application program two different lists"
      ],
      "metadata": {
        "id": "tmooyfSNY3Bs"
      }
    },
    {
      "cell_type": "markdown",
      "source": [
        "Declare two different lists:\n",
        "\n",
        "```\n",
        "color = [\"red\", \"big\", \"tasty\"]\n",
        "fruits = [\"apple\", \"banana\", \"cherry\"]\n",
        "```\n",
        "\n",
        "Now for each item in color print out each item in fruits with the respective color, so the output looks similar to:\n",
        "\n",
        "```\n",
        "red apple\n",
        "red banana\n",
        "red cherry\n",
        "big apple\n",
        "big banana\n",
        "big cherry\n",
        "tasty apple\n",
        "tasty banana\n",
        "tasty cherry\n",
        "```\n",
        "Tip: Nested loops!"
      ],
      "metadata": {
        "id": "giMW4peYZG9E"
      }
    },
    {
      "cell_type": "code",
      "source": [
        "color = [\"red\", \"big\", \"tasty\"]\n",
        "fruits = [\"apple\", \"banana\", \"cherry\"]\n",
        "\n",
        "for col in color:\n",
        "  for fru in fruits:\n",
        "    print(col,\" \",fru)"
      ],
      "metadata": {
        "id": "-4dS-Af5Z4jV",
        "outputId": "35c2487f-e9da-4c1a-c22e-760b76b86d67",
        "colab": {
          "base_uri": "https://localhost:8080/"
        }
      },
      "execution_count": 2,
      "outputs": [
        {
          "output_type": "stream",
          "name": "stdout",
          "text": [
            "red   apple\n",
            "red   banana\n",
            "red   cherry\n",
            "big   apple\n",
            "big   banana\n",
            "big   cherry\n",
            "tasty   apple\n",
            "tasty   banana\n",
            "tasty   cherry\n"
          ]
        }
      ]
    },
    {
      "cell_type": "code",
      "source": [
        "\n"
      ],
      "metadata": {
        "id": "oebV-jtPaRF0"
      },
      "execution_count": null,
      "outputs": []
    },
    {
      "cell_type": "markdown",
      "source": [
        "### Assignment 2: Application program 2-dim arrays (list) of numbers"
      ],
      "metadata": {
        "id": "o7-uHTsofar1"
      }
    },
    {
      "cell_type": "markdown",
      "source": [
        "Lists with sub-lists are actually the Python version of 2-dim arrays.\n",
        "Declare a list with four sub-lists:\n",
        "\n",
        "```\n",
        "T = [[11, 12, 5, 2], [15, 6, 10], [10, 8, 12, 5], [12,15,8,6]]\n",
        "print(T)\n",
        "```\n",
        "\n",
        "Try:\n",
        "\n",
        "```\n",
        "T[1][2] = 99\n",
        "```\n",
        "\n",
        "Which element is changed to the value 99? Print out and see if you were right?\n",
        "Add a nested for-loop so for each sub-list, slist, in T print each element, elem, in sub-list.\n"
      ],
      "metadata": {
        "id": "7fpeFWPIdWw8"
      }
    },
    {
      "cell_type": "code",
      "source": [
        "T = [[11, 12, 5, 2], [15, 6, 10], [10, 8, 12, 5], [12,15,8,6]]\n",
        "print(T)"
      ],
      "metadata": {
        "id": "WBUUlq-kd-zd",
        "outputId": "b66e78f9-1779-49e0-e7fd-ad7c8ba45831",
        "colab": {
          "base_uri": "https://localhost:8080/"
        }
      },
      "execution_count": 3,
      "outputs": [
        {
          "output_type": "stream",
          "name": "stdout",
          "text": [
            "[[11, 12, 5, 2], [15, 6, 10], [10, 8, 12, 5], [12, 15, 8, 6]]\n"
          ]
        }
      ]
    },
    {
      "cell_type": "code",
      "source": [
        "T[1][2] = 99\n",
        "print(T)"
      ],
      "metadata": {
        "id": "qN48-CJMeiw9",
        "outputId": "b87464f9-0dc3-4599-871b-7caf1925ecf7",
        "colab": {
          "base_uri": "https://localhost:8080/"
        }
      },
      "execution_count": 4,
      "outputs": [
        {
          "output_type": "stream",
          "name": "stdout",
          "text": [
            "[[11, 12, 5, 2], [15, 6, 99], [10, 8, 12, 5], [12, 15, 8, 6]]\n"
          ]
        }
      ]
    },
    {
      "cell_type": "markdown",
      "source": [
        "### Assignment 3: Random numbers"
      ],
      "metadata": {
        "id": "bBFFDuLKhCdN"
      }
    },
    {
      "cell_type": "markdown",
      "source": [
        "You are to do a program, which can initialize an integer list holding 10 elements of random numbers in the interval `[0,100]` using the module random.\n",
        "Your program must resemble the following template:\n",
        "\n",
        "```\n",
        "import random\n",
        "\n",
        "data = [] # create an empty list\n",
        "while len(data) < 10:\n",
        " randNo= random.randint(0,100)\n",
        " data.append(randNo)\n",
        "print(data)\n",
        "```\n",
        "\n",
        "\n"
      ],
      "metadata": {
        "id": "7BxH3U06hV01"
      }
    },
    {
      "cell_type": "code",
      "source": [
        "import random\n",
        "\n",
        "data = [] # create an empty list\n",
        "while len(data) < 10:\n",
        " randNo= random.randint(0,100)\n",
        " data.append(randNo)\n",
        "print(data)"
      ],
      "metadata": {
        "id": "HZRoVtiQh9hF",
        "outputId": "e089ba55-9ffc-4000-be6f-6d6d9c472ae0",
        "colab": {
          "base_uri": "https://localhost:8080/"
        }
      },
      "execution_count": 7,
      "outputs": [
        {
          "output_type": "stream",
          "name": "stdout",
          "text": [
            "[92, 31, 64, 33, 62, 56, 12, 21, 76, 5]\n"
          ]
        }
      ]
    },
    {
      "cell_type": "markdown",
      "source": [
        "Assignment 4: Random function"
      ],
      "metadata": {
        "id": "7hk7ejFgiIEV"
      }
    },
    {
      "cell_type": "markdown",
      "source": [
        "Create your own random method, which returns a list of random numbers.\n",
        "\n",
        "```\n",
        "def rand_func():\n",
        ". . . . . . .\n",
        "```\n",
        "\n"
      ],
      "metadata": {
        "id": "j1ZlqtJ_iUb8"
      }
    },
    {
      "cell_type": "code",
      "source": [
        "def rand_func():\n",
        ""
      ],
      "metadata": {
        "id": "20M5nFniijqN"
      },
      "execution_count": null,
      "outputs": []
    },
    {
      "cell_type": "code",
      "source": [
        "\n"
      ],
      "metadata": {
        "id": "I6iCmFqqjUL9"
      },
      "execution_count": null,
      "outputs": []
    },
    {
      "cell_type": "markdown",
      "source": [
        "### Extra assignment: For the fast ones only\n"
      ],
      "metadata": {
        "id": "xvM-k11RkKSk"
      }
    },
    {
      "cell_type": "markdown",
      "source": [
        "Look at your `rand_func` method from the assignment.\n",
        "Introduce parameters defining the size of the list and the maximum integer number to be generated?"
      ],
      "metadata": {
        "id": "itwBoxbhkklV"
      }
    },
    {
      "cell_type": "code",
      "source": [],
      "metadata": {
        "id": "O3b3H51Akt0k"
      },
      "execution_count": null,
      "outputs": []
    },
    {
      "cell_type": "code",
      "source": [],
      "metadata": {
        "id": "chTKcGoallmV"
      },
      "execution_count": null,
      "outputs": []
    },
    {
      "cell_type": "markdown",
      "source": [
        "Assignment X: Extra reward only for fast ones!"
      ],
      "metadata": {
        "id": "d2a1SkhEmM1W"
      }
    },
    {
      "cell_type": "markdown",
      "source": [
        "Here we want to calculate some numbers called Fibonacci numbers and save them in a list. The numbers are defined as:\n",
        "\n",
        "```\n",
        "i y[i]\n",
        "0 0\n",
        "1 1\n",
        "2 1 = 1+0\n",
        "3 2 = 1+1\n",
        "4 3 = 1+2\n",
        "5 5 = 3+2\n",
        "6 8 = 5+3\n",
        "7 13= 8+5\n",
        "```\n",
        "\n",
        "As you can see a Fibonacci number from a certain point is the sum of the two previous numbers. Do a loop so the respective elements in y is assigned the sum of the two previous elements.!!"
      ],
      "metadata": {
        "id": "FRZlxs3LmcrW"
      }
    },
    {
      "cell_type": "code",
      "source": [],
      "metadata": {
        "id": "1FgOt708nDp-"
      },
      "execution_count": null,
      "outputs": []
    },
    {
      "cell_type": "code",
      "source": [],
      "metadata": {
        "id": "ti8Qgt2Xoheu"
      },
      "execution_count": null,
      "outputs": []
    }
  ]
}